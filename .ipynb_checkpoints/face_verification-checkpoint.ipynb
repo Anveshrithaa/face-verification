{
 "cells": [
  {
   "cell_type": "code",
   "execution_count": 2,
   "metadata": {},
   "outputs": [
    {
     "name": "stderr",
     "output_type": "stream",
     "text": [
      "Using TensorFlow backend.\n"
     ]
    }
   ],
   "source": [
    "import os\n",
    "import cv2\n",
    "from PIL import Image\n",
    "from matplotlib import pyplot as plt\n",
    "import numpy as np\n",
    "import face_recognition\n",
    "import keras\n",
    "from keras.models import load_model\n",
    "import xlsxwriter "
   ]
  },
  {
   "cell_type": "code",
   "execution_count": 9,
   "metadata": {},
   "outputs": [
    {
     "name": "stdout",
     "output_type": "stream",
     "text": [
      "17BCE0001:\n",
      "[True]\n",
      "[True]\n",
      "[True]\n",
      "[True]\n",
      "[False]\n",
      "17BCE0002:\n",
      "[True]\n",
      "[True]\n",
      "[False]\n",
      "[True]\n",
      "[True]\n",
      "17BCE0003:\n",
      "[True]\n",
      "[True]\n",
      "[True]\n",
      "[True]\n",
      "[True]\n",
      "17BCE0004:\n",
      "[True]\n",
      "[True]\n",
      "[True]\n",
      "[True]\n",
      "[True]\n",
      "17BCE0005:\n",
      "[True]\n",
      "[True]\n",
      "[True]\n",
      "[True]\n",
      "[True]\n"
     ]
    }
   ],
   "source": [
    "workbook = xlsxwriter.Workbook('Output.xlsx') \n",
    "worksheet = workbook.add_worksheet()\n",
    "row = 0\n",
    "column = 0\n",
    "id_dir= \"id/\"\n",
    "webcam_dir= \"webcam/\"\n",
    "\n",
    "for id in os.listdir(id_dir):\n",
    "    id_no= id.split('.')[0]\n",
    "    worksheet.write(row, column, str(id_no))\n",
    "    column =1\n",
    "    id_image = face_recognition.load_image_file(id_dir + id)\n",
    "    print(id_no + \":\")\n",
    "    for i in range(1,6):\n",
    "        webcam_image = face_recognition.load_image_file(webcam_dir + id_no + \"_\" + str(i) + \".jpg\")\n",
    " \n",
    "        encoding_1 = face_recognition.face_encodings(id_image)[0]\n",
    "\n",
    "        encoding_2 = face_recognition.face_encodings(webcam_image)[0]\n",
    "\n",
    "        results = face_recognition.compare_faces([encoding_1], encoding_2,tolerance=0.50)\n",
    "        print(results)\n",
    "        worksheet.write(row, column, str(results)) \n",
    "        column += 1\n",
    "    row +=1\n",
    "    column =0\n",
    "    \n",
    "workbook.close() "
   ]
  }
 ],
 "metadata": {
  "kernelspec": {
   "display_name": "Python 3",
   "language": "python",
   "name": "python3"
  },
  "language_info": {
   "codemirror_mode": {
    "name": "ipython",
    "version": 3
   },
   "file_extension": ".py",
   "mimetype": "text/x-python",
   "name": "python",
   "nbconvert_exporter": "python",
   "pygments_lexer": "ipython3",
   "version": "3.7.3"
  }
 },
 "nbformat": 4,
 "nbformat_minor": 2
}
